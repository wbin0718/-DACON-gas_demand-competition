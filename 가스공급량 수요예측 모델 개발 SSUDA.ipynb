{
  "nbformat": 4,
  "nbformat_minor": 0,
  "metadata": {
    "colab": {
      "name": "경덕.ipynb",
      "provenance": [],
      "collapsed_sections": []
    },
    "kernelspec": {
      "name": "python3",
      "display_name": "Python 3"
    },
    "language_info": {
      "name": "python"
    }
  },
  "cells": [
    {
      "cell_type": "code",
      "metadata": {
        "colab": {
          "base_uri": "https://localhost:8080/"
        },
        "id": "VvmrT__twZwq",
        "outputId": "b743533a-5bca-4372-f015-9023b5f18465"
      },
      "source": [
        "from google.colab import drive\n",
        "drive.mount('/content/drive')"
      ],
      "execution_count": 1,
      "outputs": [
        {
          "output_type": "stream",
          "name": "stdout",
          "text": [
            "Mounted at /content/drive\n"
          ]
        }
      ]
    },
    {
      "cell_type": "code",
      "metadata": {
        "id": "YbG6GrP_wai5"
      },
      "source": [
        "!pip install holidays\n",
        "import holidays\n",
        "from tqdm import tqdm\n",
        "\n",
        "import numpy as np\n",
        "import pandas as pd\n",
        "import sklearn\n",
        "from sklearn.ensemble import RandomForestRegressor"
      ],
      "execution_count": null,
      "outputs": []
    },
    {
      "cell_type": "code",
      "metadata": {
        "id": "_NIWczWGwgk0"
      },
      "source": [
        "path='/content/drive/MyDrive/my_data/Gas_Demand' # 파일이 존재하는 디렉토리\n",
        "train = pd.read_csv(path+\"/한국가스공사_시간별 공급량_20181231.csv\", encoding = 'CP949')\n",
        "test = pd.read_csv(path+\"/test.csv\")\n",
        "submission = pd.read_csv(path+\"/sample_submission.csv\")"
      ],
      "execution_count": null,
      "outputs": []
    },
    {
      "cell_type": "code",
      "metadata": {
        "id": "RjCZFMSLEgBp"
      },
      "source": [
        "def min_max(data):\n",
        "  data=data.reset_index(drop=True)\n",
        "  new_data=[]\n",
        "  for i in range(data.shape[0]):\n",
        "    new_data.append((data[i]-data.min())/(data.max()-data.min()))\n",
        "  return new_data"
      ],
      "execution_count": null,
      "outputs": []
    },
    {
      "cell_type": "code",
      "metadata": {
        "id": "VMbvl0skmC24"
      },
      "source": [
        "def preprocess(train):\n",
        "  group_day=pd.DataFrame()\n",
        "  data=train.groupby(['구분','연월일']).공급량.sum().values\n",
        "\n",
        "  day=pd.DataFrame(train.groupby(['Year','Month']).count()['연월일'].values)\n",
        "  new_day=pd.DataFrame()\n",
        "  for i in range(7):\n",
        "    new_day=new_day.append(day)\n",
        "  new_day.reset_index(drop=True,inplace=True)\n",
        "\n",
        "  for i in tqdm(range(data.shape[0])):\n",
        "    group_day=group_day.append(pd.DataFrame(np.repeat(data[i],24)))\n",
        "    group_day.reset_index(drop=True,inplace=True)\n",
        "  train['group_day']=group_day\n",
        "  return train"
      ],
      "execution_count": null,
      "outputs": []
    },
    {
      "cell_type": "code",
      "metadata": {
        "id": "HQD86HZ8xCYF"
      },
      "source": [
        "test[['연월일','시간','구분']] = test['일자|시간|구분'].str.split(' ',expand=True)\n",
        "test.drop(['일자|시간|구분'], axis = 1, inplace= True)"
      ],
      "execution_count": null,
      "outputs": []
    },
    {
      "cell_type": "code",
      "metadata": {
        "id": "pkruzOmIyJVT"
      },
      "source": [
        "train['연월일'] = pd.to_datetime(train['연월일'])\n",
        "test['연월일'] = pd.to_datetime(test['연월일'])\n",
        "train['Month']=pd.DatetimeIndex(train['연월일']).month\n",
        "test['Month']=pd.DatetimeIndex(test['연월일']).month\n",
        "train['Year']=pd.DatetimeIndex(train['연월일']).year\n",
        "test['Year']=pd.DatetimeIndex(test['연월일']).year\n",
        "train['Weekday']=pd.DatetimeIndex(train['연월일']).weekday\n",
        "test['Weekday']=pd.DatetimeIndex(test['연월일']).weekday"
      ],
      "execution_count": null,
      "outputs": []
    },
    {
      "cell_type": "code",
      "metadata": {
        "id": "vrL-AVdVYdJd"
      },
      "source": [
        "train = train[(train['구분'] != 'H') | (train['공급량'] < 1500)]\n",
        "train = train[(train['구분'] != 'C') | (train['공급량'] > 3)]"
      ],
      "execution_count": null,
      "outputs": []
    },
    {
      "cell_type": "code",
      "metadata": {
        "id": "i0KuqQGd57D6",
        "colab": {
          "base_uri": "https://localhost:8080/"
        },
        "outputId": "e912559f-bc06-414e-c79d-c613c28b7ea4"
      },
      "source": [
        "train['하루 가스공급량 시간당 비율'] = 0\n",
        "for id in ['A', 'B', 'C', 'D', 'E', 'G', 'H']:\n",
        "    data = train.loc[train.구분==id]\n",
        "    data['하루 가스공급량 시간당 비율'] = 0\n",
        "    data.reset_index(drop=True,inplace=True)\n",
        "\n",
        "    for i in tqdm(range(data.shape[0])):\n",
        "        data.loc[i,'하루 가스공급량 시간당 비율'] = data.loc[i,'공급량']/sum(data.loc[data.연월일==data.loc[i,'연월일'],'공급량'])\n",
        "    data.index = train.loc[train.구분==id].index\n",
        "    train.loc[train.구분==id] = data"
      ],
      "execution_count": null,
      "outputs": [
        {
          "output_type": "stream",
          "name": "stderr",
          "text": [
            "100%|██████████| 52584/52584 [01:01<00:00, 854.67it/s]\n",
            "100%|██████████| 52584/52584 [01:01<00:00, 850.72it/s]\n",
            "100%|██████████| 49829/49829 [00:58<00:00, 857.21it/s]\n",
            "100%|██████████| 52584/52584 [01:01<00:00, 849.46it/s]\n",
            "100%|██████████| 52584/52584 [01:01<00:00, 849.99it/s]\n",
            "100%|██████████| 52584/52584 [01:01<00:00, 851.34it/s]\n",
            "100%|██████████| 52579/52579 [01:01<00:00, 855.54it/s]\n"
          ]
        }
      ]
    },
    {
      "cell_type": "code",
      "metadata": {
        "id": "w3dIYcQbExkN"
      },
      "source": [
        "data_A=train.loc[train.구분=='A'].reset_index(drop=True)\n",
        "data_B=train.loc[train.구분=='B'].reset_index(drop=True)\n",
        "data_C=train.loc[train.구분=='C'].reset_index(drop=True)\n",
        "data_D=train.loc[train.구분=='D'].reset_index(drop=True)\n",
        "data_E=train.loc[train.구분=='E'].reset_index(drop=True)\n",
        "data_G=train.loc[train.구분=='G'].reset_index(drop=True)\n",
        "data_H=train.loc[train.구분=='H'].reset_index(drop=True)"
      ],
      "execution_count": null,
      "outputs": []
    },
    {
      "cell_type": "code",
      "metadata": {
        "colab": {
          "base_uri": "https://localhost:8080/"
        },
        "id": "HHvb5hNVE0Rp",
        "outputId": "cc712438-91ca-4828-ee67-331142aa5217"
      },
      "source": [
        "new_train=pd.DataFrame()\n",
        "data=preprocess(data_A)\n",
        "new_train=new_train.append(data)\n",
        "data=preprocess(data_B)\n",
        "new_train=new_train.append(data)\n",
        "data=preprocess(data_C)\n",
        "new_train=new_train.append(data)\n",
        "data=preprocess(data_D)\n",
        "new_train=new_train.append(data)\n",
        "data=preprocess(data_E)\n",
        "new_train=new_train.append(data)\n",
        "data=preprocess(data_G)\n",
        "new_train=new_train.append(data)\n",
        "data=preprocess(data_H)\n",
        "new_train=new_train.append(data)\n",
        "new_train.reset_index(drop=True,inplace=True)"
      ],
      "execution_count": null,
      "outputs": [
        {
          "output_type": "stream",
          "name": "stderr",
          "text": [
            "100%|██████████| 2191/2191 [00:01<00:00, 1700.70it/s]\n",
            "100%|██████████| 2191/2191 [00:01<00:00, 1703.99it/s]\n",
            "100%|██████████| 2085/2085 [00:01<00:00, 1757.37it/s]\n",
            "100%|██████████| 2191/2191 [00:01<00:00, 1711.61it/s]\n",
            "100%|██████████| 2191/2191 [00:01<00:00, 1720.43it/s]\n",
            "100%|██████████| 2191/2191 [00:01<00:00, 1710.42it/s]\n",
            "100%|██████████| 2191/2191 [00:01<00:00, 1720.01it/s]\n"
          ]
        }
      ]
    },
    {
      "cell_type": "code",
      "metadata": {
        "id": "Kr1PmXqP_ujK"
      },
      "source": [
        "new_train.to_csv(path+\"/final_data_129.csv\",index=False)"
      ],
      "execution_count": null,
      "outputs": []
    },
    {
      "cell_type": "code",
      "metadata": {
        "id": "c81UmREhABl4",
        "colab": {
          "base_uri": "https://localhost:8080/",
          "height": 424
        },
        "outputId": "c801f1c9-14b4-4ede-e3c9-a71715004f92"
      },
      "source": [
        "new_train=pd.read_csv(path+\"/final_data_129.csv\")\n",
        "new_train"
      ],
      "execution_count": null,
      "outputs": [
        {
          "output_type": "execute_result",
          "data": {
            "text/html": [
              "<div>\n",
              "<style scoped>\n",
              "    .dataframe tbody tr th:only-of-type {\n",
              "        vertical-align: middle;\n",
              "    }\n",
              "\n",
              "    .dataframe tbody tr th {\n",
              "        vertical-align: top;\n",
              "    }\n",
              "\n",
              "    .dataframe thead th {\n",
              "        text-align: right;\n",
              "    }\n",
              "</style>\n",
              "<table border=\"1\" class=\"dataframe\">\n",
              "  <thead>\n",
              "    <tr style=\"text-align: right;\">\n",
              "      <th></th>\n",
              "      <th>연월일</th>\n",
              "      <th>시간</th>\n",
              "      <th>구분</th>\n",
              "      <th>공급량</th>\n",
              "      <th>Month</th>\n",
              "      <th>Year</th>\n",
              "      <th>Weekday</th>\n",
              "      <th>하루 가스공급량 시간당 비율</th>\n",
              "      <th>group_day</th>\n",
              "    </tr>\n",
              "  </thead>\n",
              "  <tbody>\n",
              "    <tr>\n",
              "      <th>0</th>\n",
              "      <td>2013-01-01</td>\n",
              "      <td>1</td>\n",
              "      <td>A</td>\n",
              "      <td>2497.129</td>\n",
              "      <td>1</td>\n",
              "      <td>2013</td>\n",
              "      <td>1</td>\n",
              "      <td>0.041532</td>\n",
              "      <td>60125.336</td>\n",
              "    </tr>\n",
              "    <tr>\n",
              "      <th>1</th>\n",
              "      <td>2013-01-01</td>\n",
              "      <td>2</td>\n",
              "      <td>A</td>\n",
              "      <td>2363.265</td>\n",
              "      <td>1</td>\n",
              "      <td>2013</td>\n",
              "      <td>1</td>\n",
              "      <td>0.039306</td>\n",
              "      <td>60125.336</td>\n",
              "    </tr>\n",
              "    <tr>\n",
              "      <th>2</th>\n",
              "      <td>2013-01-01</td>\n",
              "      <td>3</td>\n",
              "      <td>A</td>\n",
              "      <td>2258.505</td>\n",
              "      <td>1</td>\n",
              "      <td>2013</td>\n",
              "      <td>1</td>\n",
              "      <td>0.037563</td>\n",
              "      <td>60125.336</td>\n",
              "    </tr>\n",
              "    <tr>\n",
              "      <th>3</th>\n",
              "      <td>2013-01-01</td>\n",
              "      <td>4</td>\n",
              "      <td>A</td>\n",
              "      <td>2243.969</td>\n",
              "      <td>1</td>\n",
              "      <td>2013</td>\n",
              "      <td>1</td>\n",
              "      <td>0.037322</td>\n",
              "      <td>60125.336</td>\n",
              "    </tr>\n",
              "    <tr>\n",
              "      <th>4</th>\n",
              "      <td>2013-01-01</td>\n",
              "      <td>5</td>\n",
              "      <td>A</td>\n",
              "      <td>2344.105</td>\n",
              "      <td>1</td>\n",
              "      <td>2013</td>\n",
              "      <td>1</td>\n",
              "      <td>0.038987</td>\n",
              "      <td>60125.336</td>\n",
              "    </tr>\n",
              "    <tr>\n",
              "      <th>...</th>\n",
              "      <td>...</td>\n",
              "      <td>...</td>\n",
              "      <td>...</td>\n",
              "      <td>...</td>\n",
              "      <td>...</td>\n",
              "      <td>...</td>\n",
              "      <td>...</td>\n",
              "      <td>...</td>\n",
              "      <td>...</td>\n",
              "    </tr>\n",
              "    <tr>\n",
              "      <th>365323</th>\n",
              "      <td>2018-12-31</td>\n",
              "      <td>20</td>\n",
              "      <td>H</td>\n",
              "      <td>681.033</td>\n",
              "      <td>12</td>\n",
              "      <td>2018</td>\n",
              "      <td>0</td>\n",
              "      <td>0.047997</td>\n",
              "      <td>14189.118</td>\n",
              "    </tr>\n",
              "    <tr>\n",
              "      <th>365324</th>\n",
              "      <td>2018-12-31</td>\n",
              "      <td>21</td>\n",
              "      <td>H</td>\n",
              "      <td>669.961</td>\n",
              "      <td>12</td>\n",
              "      <td>2018</td>\n",
              "      <td>0</td>\n",
              "      <td>0.047217</td>\n",
              "      <td>14189.118</td>\n",
              "    </tr>\n",
              "    <tr>\n",
              "      <th>365325</th>\n",
              "      <td>2018-12-31</td>\n",
              "      <td>22</td>\n",
              "      <td>H</td>\n",
              "      <td>657.941</td>\n",
              "      <td>12</td>\n",
              "      <td>2018</td>\n",
              "      <td>0</td>\n",
              "      <td>0.046369</td>\n",
              "      <td>14189.118</td>\n",
              "    </tr>\n",
              "    <tr>\n",
              "      <th>365326</th>\n",
              "      <td>2018-12-31</td>\n",
              "      <td>23</td>\n",
              "      <td>H</td>\n",
              "      <td>610.953</td>\n",
              "      <td>12</td>\n",
              "      <td>2018</td>\n",
              "      <td>0</td>\n",
              "      <td>0.043058</td>\n",
              "      <td>14189.118</td>\n",
              "    </tr>\n",
              "    <tr>\n",
              "      <th>365327</th>\n",
              "      <td>2018-12-31</td>\n",
              "      <td>24</td>\n",
              "      <td>H</td>\n",
              "      <td>560.896</td>\n",
              "      <td>12</td>\n",
              "      <td>2018</td>\n",
              "      <td>0</td>\n",
              "      <td>0.039530</td>\n",
              "      <td>14189.118</td>\n",
              "    </tr>\n",
              "  </tbody>\n",
              "</table>\n",
              "<p>365328 rows × 9 columns</p>\n",
              "</div>"
            ],
            "text/plain": [
              "               연월일  시간 구분       공급량  ...  Year  Weekday  하루 가스공급량 시간당 비율  group_day\n",
              "0       2013-01-01   1  A  2497.129  ...  2013        1         0.041532  60125.336\n",
              "1       2013-01-01   2  A  2363.265  ...  2013        1         0.039306  60125.336\n",
              "2       2013-01-01   3  A  2258.505  ...  2013        1         0.037563  60125.336\n",
              "3       2013-01-01   4  A  2243.969  ...  2013        1         0.037322  60125.336\n",
              "4       2013-01-01   5  A  2344.105  ...  2013        1         0.038987  60125.336\n",
              "...            ...  .. ..       ...  ...   ...      ...              ...        ...\n",
              "365323  2018-12-31  20  H   681.033  ...  2018        0         0.047997  14189.118\n",
              "365324  2018-12-31  21  H   669.961  ...  2018        0         0.047217  14189.118\n",
              "365325  2018-12-31  22  H   657.941  ...  2018        0         0.046369  14189.118\n",
              "365326  2018-12-31  23  H   610.953  ...  2018        0         0.043058  14189.118\n",
              "365327  2018-12-31  24  H   560.896  ...  2018        0         0.039530  14189.118\n",
              "\n",
              "[365328 rows x 9 columns]"
            ]
          },
          "metadata": {},
          "execution_count": 130
        }
      ]
    },
    {
      "cell_type": "code",
      "metadata": {
        "id": "A1ZKaFVsHSEK"
      },
      "source": [
        "kr_holidays = holidays.KR()\n",
        "new_train['holiday'] = new_train['연월일'].apply(lambda x: True if x in kr_holidays else False)\n",
        "test['holiday'] = test['연월일'].apply(lambda x: True if x in kr_holidays else False)"
      ],
      "execution_count": null,
      "outputs": []
    },
    {
      "cell_type": "markdown",
      "metadata": {
        "id": "vof2_rQPIK2H"
      },
      "source": [
        "#일별 공급량 예측"
      ]
    },
    {
      "cell_type": "code",
      "metadata": {
        "id": "6lzUJK19fPAH"
      },
      "source": [
        "number=[]\n",
        "for n in range(int(new_train.shape[0]/24)):\n",
        "  for num in [1,2,3,4,5,6,7,8,9,10,11,12,13,14,15,16,17,18,19,20,21,22,23,24]:\n",
        "    number.append(num)\n",
        "new_train['num']=number\n",
        "\n",
        "number=[]\n",
        "for n in range(int(test.shape[0]/24)):\n",
        "  for num in [1,2,3,4,5,6,7,8,9,10,11,12,13,14,15,16,17,18,19,20,21,22,23,24]:\n",
        "    number.append(num)\n",
        "test['num']=number"
      ],
      "execution_count": null,
      "outputs": []
    },
    {
      "cell_type": "code",
      "metadata": {
        "id": "mlrXlTvMfThI"
      },
      "source": [
        "day_train=new_train.loc[new_train.num==24]\n",
        "day_test=test.loc[test.num==24]\n",
        "day_train.reset_index(drop=True,inplace=True)\n",
        "day_test.reset_index(drop=True,inplace=True)"
      ],
      "execution_count": null,
      "outputs": []
    },
    {
      "cell_type": "code",
      "metadata": {
        "id": "5-G2B-CzrcS8"
      },
      "source": [
        "day_train = pd.get_dummies(day_train, columns = ['구분'])\n",
        "day_test = pd.get_dummies(day_test, columns = ['구분'])"
      ],
      "execution_count": null,
      "outputs": []
    },
    {
      "cell_type": "code",
      "metadata": {
        "id": "QjOilWPWua4b"
      },
      "source": [
        "_date=day_test.연월일"
      ],
      "execution_count": null,
      "outputs": []
    },
    {
      "cell_type": "code",
      "metadata": {
        "id": "UF_wg9hVrlHa"
      },
      "source": [
        "day_train_label = np.log1p(day_train['group_day'])\n",
        "day_train.drop(['연월일','시간','공급량','Year','group_day','하루 가스공급량 시간당 비율','num'], axis = 1, inplace= True)\n",
        "day_test.drop(['연월일','시간','Year','num'], axis = 1, inplace= True)"
      ],
      "execution_count": null,
      "outputs": []
    },
    {
      "cell_type": "code",
      "source": [
        "rf = RandomForestRegressor(\n",
        "                n_estimators=100,\n",
        "                criterion='squared_error',\n",
        "                max_features='auto',\n",
        "                bootstrap=True,\n",
        "                random_state=0,\n",
        "                n_jobs=-1,\n",
        ")"
      ],
      "metadata": {
        "id": "0E1o_JlUZgDE"
      },
      "execution_count": null,
      "outputs": []
    },
    {
      "cell_type": "code",
      "metadata": {
        "id": "aBGcGjaWtYwV"
      },
      "source": [
        "rf.fit(day_train,day_train_label)\n",
        "day_pred = np.expm1(rf.predict(day_test))\n",
        "day_pred_train = np.expm1(rf.predict(day_train))"
      ],
      "execution_count": null,
      "outputs": []
    },
    {
      "cell_type": "markdown",
      "metadata": {
        "id": "AzDx61LzJTWD"
      },
      "source": [
        "#시간별 비율 예측"
      ]
    },
    {
      "cell_type": "code",
      "metadata": {
        "id": "sEcag00JJWIE"
      },
      "source": [
        "ratio_train = pd.get_dummies(new_train, columns = ['구분'])\n",
        "ratio_test = pd.get_dummies(test, columns = ['구분'])"
      ],
      "execution_count": null,
      "outputs": []
    },
    {
      "cell_type": "code",
      "metadata": {
        "id": "XKwgBaPNJmA3"
      },
      "source": [
        "ratio_train_label=ratio_train['하루 가스공급량 시간당 비율']\n",
        "ratio_train.drop(['연월일','공급량','Year','group_day','하루 가스공급량 시간당 비율','num'], axis = 1, inplace= True)\n",
        "ratio_test.drop(['연월일','Year','num'], axis = 1, inplace= True)"
      ],
      "execution_count": null,
      "outputs": []
    },
    {
      "cell_type": "code",
      "metadata": {
        "id": "pLBtDPVNKJTz"
      },
      "source": [
        "rf = RandomForestRegressor(\n",
        "                n_estimators=100,\n",
        "                criterion='squared_error',\n",
        "                max_features='auto',\n",
        "                bootstrap=True,\n",
        "                random_state=0,\n",
        "                n_jobs=-1,\n",
        ")\n",
        "rf.fit(ratio_train,ratio_train_label)\n",
        "ratio_pred = rf.predict(ratio_test)"
      ],
      "execution_count": null,
      "outputs": []
    },
    {
      "cell_type": "code",
      "metadata": {
        "id": "Kppd1Lz7trcV"
      },
      "source": [
        "ratio_pred=pd.DataFrame({'연월일':test.연월일,'비율':ratio_pred})"
      ],
      "execution_count": null,
      "outputs": []
    },
    {
      "cell_type": "code",
      "source": [
        "ratio_pred"
      ],
      "metadata": {
        "colab": {
          "base_uri": "https://localhost:8080/",
          "height": 424
        },
        "id": "mENTQPcYIpeG",
        "outputId": "edae39bb-5373-4f0a-d5d8-32acae1db84a"
      },
      "execution_count": null,
      "outputs": [
        {
          "output_type": "execute_result",
          "data": {
            "text/html": [
              "<div>\n",
              "<style scoped>\n",
              "    .dataframe tbody tr th:only-of-type {\n",
              "        vertical-align: middle;\n",
              "    }\n",
              "\n",
              "    .dataframe tbody tr th {\n",
              "        vertical-align: top;\n",
              "    }\n",
              "\n",
              "    .dataframe thead th {\n",
              "        text-align: right;\n",
              "    }\n",
              "</style>\n",
              "<table border=\"1\" class=\"dataframe\">\n",
              "  <thead>\n",
              "    <tr style=\"text-align: right;\">\n",
              "      <th></th>\n",
              "      <th>연월일</th>\n",
              "      <th>비율</th>\n",
              "    </tr>\n",
              "  </thead>\n",
              "  <tbody>\n",
              "    <tr>\n",
              "      <th>0</th>\n",
              "      <td>2019-01-01</td>\n",
              "      <td>0.041079</td>\n",
              "    </tr>\n",
              "    <tr>\n",
              "      <th>1</th>\n",
              "      <td>2019-01-01</td>\n",
              "      <td>0.039022</td>\n",
              "    </tr>\n",
              "    <tr>\n",
              "      <th>2</th>\n",
              "      <td>2019-01-01</td>\n",
              "      <td>0.037177</td>\n",
              "    </tr>\n",
              "    <tr>\n",
              "      <th>3</th>\n",
              "      <td>2019-01-01</td>\n",
              "      <td>0.037018</td>\n",
              "    </tr>\n",
              "    <tr>\n",
              "      <th>4</th>\n",
              "      <td>2019-01-01</td>\n",
              "      <td>0.038212</td>\n",
              "    </tr>\n",
              "    <tr>\n",
              "      <th>...</th>\n",
              "      <td>...</td>\n",
              "      <td>...</td>\n",
              "    </tr>\n",
              "    <tr>\n",
              "      <th>15115</th>\n",
              "      <td>2019-03-31</td>\n",
              "      <td>0.055343</td>\n",
              "    </tr>\n",
              "    <tr>\n",
              "      <th>15116</th>\n",
              "      <td>2019-03-31</td>\n",
              "      <td>0.056485</td>\n",
              "    </tr>\n",
              "    <tr>\n",
              "      <th>15117</th>\n",
              "      <td>2019-03-31</td>\n",
              "      <td>0.051882</td>\n",
              "    </tr>\n",
              "    <tr>\n",
              "      <th>15118</th>\n",
              "      <td>2019-03-31</td>\n",
              "      <td>0.046230</td>\n",
              "    </tr>\n",
              "    <tr>\n",
              "      <th>15119</th>\n",
              "      <td>2019-03-31</td>\n",
              "      <td>0.042513</td>\n",
              "    </tr>\n",
              "  </tbody>\n",
              "</table>\n",
              "<p>15120 rows × 2 columns</p>\n",
              "</div>"
            ],
            "text/plain": [
              "             연월일        비율\n",
              "0     2019-01-01  0.041079\n",
              "1     2019-01-01  0.039022\n",
              "2     2019-01-01  0.037177\n",
              "3     2019-01-01  0.037018\n",
              "4     2019-01-01  0.038212\n",
              "...          ...       ...\n",
              "15115 2019-03-31  0.055343\n",
              "15116 2019-03-31  0.056485\n",
              "15117 2019-03-31  0.051882\n",
              "15118 2019-03-31  0.046230\n",
              "15119 2019-03-31  0.042513\n",
              "\n",
              "[15120 rows x 2 columns]"
            ]
          },
          "metadata": {},
          "execution_count": 143
        }
      ]
    },
    {
      "cell_type": "code",
      "metadata": {
        "id": "nVtxhVgRuB8s"
      },
      "source": [
        "day_pred=pd.DataFrame({'연월일':_date,'하루공급량':day_pred})"
      ],
      "execution_count": null,
      "outputs": []
    },
    {
      "cell_type": "code",
      "metadata": {
        "id": "jOfKrx53uKGU"
      },
      "source": [
        "count=0\n",
        "cou=0\n",
        "for i in range(ratio_pred.shape[0]):\n",
        "  ratio_pred.iloc[i,1]=ratio_pred.iloc[i,1]*day_pred.iloc[count,1]\n",
        "  cou=cou+1\n",
        "  if(cou==24):\n",
        "    count=count+1\n",
        "    cou=0"
      ],
      "execution_count": null,
      "outputs": []
    },
    {
      "cell_type": "code",
      "metadata": {
        "id": "VDh2pBFgz3qA"
      },
      "source": [
        "submission['공급량'] = ratio_pred.비율\n",
        "submission.to_csv(path+'/최종제출.csv',index=False)"
      ],
      "execution_count": null,
      "outputs": []
    },
    {
      "cell_type": "code",
      "source": [
        "submission"
      ],
      "metadata": {
        "colab": {
          "base_uri": "https://localhost:8080/",
          "height": 424
        },
        "id": "QDcStp64-LF6",
        "outputId": "f171e82b-ba55-4cdd-cf5e-e9f2e686813f"
      },
      "execution_count": null,
      "outputs": [
        {
          "output_type": "execute_result",
          "data": {
            "text/html": [
              "<div>\n",
              "<style scoped>\n",
              "    .dataframe tbody tr th:only-of-type {\n",
              "        vertical-align: middle;\n",
              "    }\n",
              "\n",
              "    .dataframe tbody tr th {\n",
              "        vertical-align: top;\n",
              "    }\n",
              "\n",
              "    .dataframe thead th {\n",
              "        text-align: right;\n",
              "    }\n",
              "</style>\n",
              "<table border=\"1\" class=\"dataframe\">\n",
              "  <thead>\n",
              "    <tr style=\"text-align: right;\">\n",
              "      <th></th>\n",
              "      <th>일자|시간|구분</th>\n",
              "      <th>공급량</th>\n",
              "    </tr>\n",
              "  </thead>\n",
              "  <tbody>\n",
              "    <tr>\n",
              "      <th>0</th>\n",
              "      <td>2019-01-01 01 A</td>\n",
              "      <td>2280.658765</td>\n",
              "    </tr>\n",
              "    <tr>\n",
              "      <th>1</th>\n",
              "      <td>2019-01-01 02 A</td>\n",
              "      <td>2166.488190</td>\n",
              "    </tr>\n",
              "    <tr>\n",
              "      <th>2</th>\n",
              "      <td>2019-01-01 03 A</td>\n",
              "      <td>2064.032317</td>\n",
              "    </tr>\n",
              "    <tr>\n",
              "      <th>3</th>\n",
              "      <td>2019-01-01 04 A</td>\n",
              "      <td>2055.193923</td>\n",
              "    </tr>\n",
              "    <tr>\n",
              "      <th>4</th>\n",
              "      <td>2019-01-01 05 A</td>\n",
              "      <td>2121.518204</td>\n",
              "    </tr>\n",
              "    <tr>\n",
              "      <th>...</th>\n",
              "      <td>...</td>\n",
              "      <td>...</td>\n",
              "    </tr>\n",
              "    <tr>\n",
              "      <th>15115</th>\n",
              "      <td>2019-03-31 20 H</td>\n",
              "      <td>413.828151</td>\n",
              "    </tr>\n",
              "    <tr>\n",
              "      <th>15116</th>\n",
              "      <td>2019-03-31 21 H</td>\n",
              "      <td>422.368344</td>\n",
              "    </tr>\n",
              "    <tr>\n",
              "      <th>15117</th>\n",
              "      <td>2019-03-31 22 H</td>\n",
              "      <td>387.946256</td>\n",
              "    </tr>\n",
              "    <tr>\n",
              "      <th>15118</th>\n",
              "      <td>2019-03-31 23 H</td>\n",
              "      <td>345.680738</td>\n",
              "    </tr>\n",
              "    <tr>\n",
              "      <th>15119</th>\n",
              "      <td>2019-03-31 24 H</td>\n",
              "      <td>317.887840</td>\n",
              "    </tr>\n",
              "  </tbody>\n",
              "</table>\n",
              "<p>15120 rows × 2 columns</p>\n",
              "</div>"
            ],
            "text/plain": [
              "              일자|시간|구분          공급량\n",
              "0      2019-01-01 01 A  2280.658765\n",
              "1      2019-01-01 02 A  2166.488190\n",
              "2      2019-01-01 03 A  2064.032317\n",
              "3      2019-01-01 04 A  2055.193923\n",
              "4      2019-01-01 05 A  2121.518204\n",
              "...                ...          ...\n",
              "15115  2019-03-31 20 H   413.828151\n",
              "15116  2019-03-31 21 H   422.368344\n",
              "15117  2019-03-31 22 H   387.946256\n",
              "15118  2019-03-31 23 H   345.680738\n",
              "15119  2019-03-31 24 H   317.887840\n",
              "\n",
              "[15120 rows x 2 columns]"
            ]
          },
          "metadata": {},
          "execution_count": 147
        }
      ]
    }
  ]
}